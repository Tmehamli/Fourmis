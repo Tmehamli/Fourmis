{
 "cells": [
  {
   "cell_type": "markdown",
   "metadata": {},
   "source": [
    "# Algo génétique"
   ]
  },
  {
   "cell_type": "code",
   "execution_count": 1,
   "metadata": {},
   "outputs": [],
   "source": [
    "import random as rd\n",
    "import numpy as np"
   ]
  },
  {
   "cell_type": "code",
   "execution_count": 16,
   "metadata": {},
   "outputs": [],
   "source": [
    "class Monde():\n",
    "    def __init__(self):\n",
    "        rd.seed(42)\n",
    "        GAMMA = rd.uniform(0,1)\n",
    "        self.Villes = np.asarray(['A', 'B', 'C','D', 'E', 'F', 'G'])\n",
    "        self.Plan_gam_distance_phero = {\n",
    "            (self.Villes[0],self.Villes[1]): np.asarray([GAMMA, rd.uniform(1, 20),1]),\n",
    "            (self.Villes[0],self.Villes[2]): np.asarray([GAMMA, rd.uniform(1, 20),1]),\n",
    "            (self.Villes[0],self.Villes[3]): np.asarray([GAMMA, rd.uniform(1, 20),1]),\n",
    "            (self.Villes[0],self.Villes[4]): np.asarray([GAMMA, rd.uniform(1, 20),1]),\n",
    "            (self.Villes[0],self.Villes[5]): np.asarray([GAMMA, rd.uniform(1, 20),1]),\n",
    "            (self.Villes[1],self.Villes[2]): np.asarray([GAMMA, rd.uniform(1, 20),1]),\n",
    "            (self.Villes[1],self.Villes[3]): np.asarray([GAMMA, rd.uniform(1, 20),1]),\n",
    "            (self.Villes[1],self.Villes[4]): np.asarray([GAMMA, rd.uniform(1, 20),1]),\n",
    "            (self.Villes[1],self.Villes[5]): np.asarray([GAMMA, rd.uniform(1, 20),1]),\n",
    "            (self.Villes[2],self.Villes[3]): np.asarray([GAMMA, rd.uniform(1, 20),1]),\n",
    "            (self.Villes[2],self.Villes[4]): np.asarray([GAMMA, rd.uniform(1, 20),1]),\n",
    "            (self.Villes[2],self.Villes[5]): np.asarray([GAMMA, rd.uniform(1, 20),1]),\n",
    "            (self.Villes[3],self.Villes[4]): np.asarray([GAMMA, rd.uniform(1, 20),1]),\n",
    "            (self.Villes[3],self.Villes[5]): np.asarray([GAMMA, rd.uniform(1, 20),1]),\n",
    "            (self.Villes[4],self.Villes[5]): np.asarray([GAMMA, rd.uniform(1, 20),1])\n",
    "        }"
   ]
  },
  {
   "cell_type": "code",
   "execution_count": 43,
   "metadata": {},
   "outputs": [
    {
     "data": {
      "text/plain": "{('A', 'B'): array([0.6394268 , 1.47520435, 1.        ]),\n ('A', 'C'): array([0.6394268 , 6.22555705, 1.        ]),\n ('A', 'D'): array([0.6394268 , 5.24100402, 1.        ]),\n ('A', 'E'): array([ 0.6394268 , 14.99295307,  1.        ]),\n ('A', 'F'): array([ 0.6394268 , 13.85729026,  1.        ]),\n ('B', 'C'): array([ 0.6394268 , 17.95141179,  1.        ]),\n ('B', 'D'): array([0.6394268 , 2.65183782, 1.        ]),\n ('B', 'E'): array([0.6394268 , 9.01651457, 1.        ]),\n ('B', 'F'): array([0.6394268 , 1.56614717, 1.        ]),\n ('C', 'D'): array([0.6394268 , 5.15412152, 1.        ]),\n ('C', 'E'): array([ 0.6394268 , 10.60175047,  1.        ]),\n ('C', 'F'): array([0.6394268 , 1.50418342, 1.        ]),\n ('D', 'E'): array([0.6394268 , 4.77791536, 1.        ]),\n ('D', 'F'): array([ 0.6394268 , 13.34780432,  1.        ]),\n ('E', 'F'): array([ 0.6394268 , 11.35388813,  1.        ])}"
     },
     "execution_count": 43,
     "metadata": {},
     "output_type": "execute_result"
    }
   ],
   "source": [
    "m = Monde()\n",
    "m.Plan_gam_distance_phero"
   ]
  },
  {
   "cell_type": "code",
   "execution_count": 40,
   "metadata": {},
   "outputs": [],
   "source": [
    "\n",
    "class Fourmis():\n",
    "    def __init__(self):\n",
    "        self._chemin = np.array([])\n",
    "        self._alpha = rd.uniform(0,1) \n",
    "        self._beta = rd.uniform(0,1)\n",
    "\n",
    "    def ChoixDestination(self, start, Plan_distance_phero,):\n",
    "        # target = ('destination', 'proba')\n",
    "        target = ('ville', 0)\n",
    "        possible_target = {}\n",
    "        for duo_v, g_d_ph in Plan_distance_phero.items():\n",
    "            if duo_v[0] == start and duo_v[1] not in self._chemin:\n",
    "                possible_target[duo_v] = g_d_ph\n",
    "        for duo_v, g_d_ph in possible_target.items():\n",
    "            p_den = self.init_p_den(duo_v, possible_target)\n",
    "            prob =self.calcul_prob(duo_v, possible_target)\n",
    "            if prob>target[1]:\n",
    "                target = (duo_v, prob)\n",
    "        return target\n",
    "        \n",
    "    def init_p_den(self, duo_v, possible_target):\n",
    "        p_den = 0\n",
    "        for d_v, g_d_ph in possible_target.items():\n",
    "            if d_v[0] != duo_v[0]:\n",
    "                g_t = possible_target[d_v][0]\n",
    "                d_t = possible_target[d_v][1]\n",
    "                ph_t = possible_target[d_v][2]\n",
    "                p_den += g_t + ((1/d_t)**self._alpha)*(ph_t**self._beta)\n",
    "        if p_den == 0:\n",
    "            p_den = 1\n",
    "        return p_den\n",
    "\n",
    "    def calcul_prob(self, duo_v, possible_target):\n",
    "        g_t = possible_target[duo_v][0]\n",
    "        d_t = possible_target[duo_v][1]\n",
    "        ph_t = possible_target[duo_v][2]\n",
    "        p_num = g_t + ((1/d_t)**self._alpha)*(ph_t**self._beta)\n",
    "        sum_g = 0\n",
    "        for val in possible_target.values():\n",
    "            sum_g += val[0]\n",
    "        p_den = sum_g + ((1/d_t)**self._alpha)*(ph_t**self._beta)\n",
    "        p = p_num/p_den\n",
    "        return p \n",
    "\n",
    "    def AjouterChoix(self, destination):\n",
    "        self._chemin.append(destination)"
   ]
  },
  {
   "cell_type": "code",
   "execution_count": 42,
   "metadata": {},
   "outputs": [
    {
     "name": "stdout",
     "output_type": "stream",
     "text": "(('A', 'B'), 0.37844259372775435)\n/home/kimnovak/anaconda3/lib/python3.7/site-packages/ipykernel_launcher.py:12: FutureWarning: elementwise comparison failed; returning scalar instead, but in the future will perform elementwise comparison\n  if sys.path[0] == '':\n"
    }
   ],
   "source": [
    "w = Monde()\n",
    "myF = Fourmis()\n",
    "print(myF.ChoixDestination('A', w.Plan_gam_distance_phero))"
   ]
  }
 ],
 "metadata": {
  "kernelspec": {
   "display_name": "Python 3",
   "language": "python",
   "name": "python3"
  },
  "language_info": {
   "codemirror_mode": {
    "name": "ipython",
    "version": 3
   },
   "file_extension": ".py",
   "mimetype": "text/x-python",
   "name": "python",
   "nbconvert_exporter": "python",
   "pygments_lexer": "ipython3",
   "version": "3.7.4-final"
  }
 },
 "nbformat": 4,
 "nbformat_minor": 2
}